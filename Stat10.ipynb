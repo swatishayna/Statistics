{
 "cells": [
  {
   "cell_type": "raw",
   "id": "0047e641",
   "metadata": {},
   "source": [
    "1.\tA chicken lays n eggs. Each egg independently does or doesn’t hatch, with probability p of hatching. For each egg that hatches, the chick does or doesn’t survive (independently of the other eggs), with probability s of survival. Let N ⇠ Bin(n, p) be the number of eggs which hatch, X be the number of chicks which survive, and Y be the number of chicks which hatch but don’t survive (so X + Y = N). Find the marginal PMF of X, and the joint PMF of X and Y . Are they independent?"
   ]
  },
  {
   "cell_type": "raw",
   "id": "a36c2ccc",
   "metadata": {},
   "source": [
    "A = event when eggs hatched\n",
    "B = event when eggs survived\n",
    "P(S/A) = probabilty of survived eggs given that they hatched --Obvious\n",
    "X  = number of chicks which survive, \n",
    "Y  = number of chicks which hatch but don’t survive \n",
    "X + Y = N"
   ]
  },
  {
   "cell_type": "raw",
   "id": "b1bcde4f",
   "metadata": {},
   "source": [
    "They cant be independent A and B:\n",
    "if X = n, then Y = 0. So they are not independent: P(Y = 0) < 1, while P(Y =0|X = n) = 1."
   ]
  },
  {
   "cell_type": "raw",
   "id": "f8126e19",
   "metadata": {},
   "source": [
    "\n",
    "\n",
    "\n",
    "P(X = i, Y = j) = (n! / i!j!(n  i  j)!) * (((ps)**i)*(p(1 - s))**j) * (1-p)**(n-i-j))"
   ]
  },
  {
   "cell_type": "raw",
   "id": "77becd5d",
   "metadata": {},
   "source": []
  }
 ],
 "metadata": {
  "kernelspec": {
   "display_name": "Python 3",
   "language": "python",
   "name": "python3"
  },
  "language_info": {
   "codemirror_mode": {
    "name": "ipython",
    "version": 3
   },
   "file_extension": ".py",
   "mimetype": "text/x-python",
   "name": "python",
   "nbconvert_exporter": "python",
   "pygments_lexer": "ipython3",
   "version": "3.8.8"
  }
 },
 "nbformat": 4,
 "nbformat_minor": 5
}

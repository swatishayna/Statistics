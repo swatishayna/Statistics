{
 "cells": [
  {
   "cell_type": "markdown",
   "id": "9722bf36",
   "metadata": {},
   "source": [
    "1.\tRaindrops are falling at an average rate of 20 drops per square inch per minute. What would be a reasonable distribution to use for the number of raindrops hitting a particular region measuring 5 inches2 in t minutes? Why? Using your chosen distribution, compute the probability that the region has no rain drops in a given 3 second time interval. A reasonable choice of distribution is P"
   ]
  },
  {
   "cell_type": "markdown",
   "id": "66d4ad64",
   "metadata": {},
   "source": [
    "Answer: Poisson Distribution , as this distribution is used to calculate probability of  number of times of an event happening in a given interval of time "
   ]
  },
  {
   "cell_type": "code",
   "execution_count": 3,
   "id": "5f9671b8",
   "metadata": {},
   "outputs": [],
   "source": [
    "# rate_per_squareinch_persecond = 20/60 = 1/3 \n",
    "rate_per_squareinch_persecond = 20/60\n",
    "rate_per_5squareinch_persecond = (20/60)*5\n",
    "# according to question number of drops per 3 seconds per 5 sqaure inches \n",
    "lambda_rate_per_5squareinch_per_3_second = ((20/60)*5)*3\n",
    "e = 2.71828"
   ]
  },
  {
   "cell_type": "code",
   "execution_count": 4,
   "id": "263ba639",
   "metadata": {},
   "outputs": [
    {
     "data": {
      "text/plain": [
       "0.006737969660615389"
      ]
     },
     "execution_count": 4,
     "metadata": {},
     "output_type": "execute_result"
    }
   ],
   "source": [
    "# P(x=0)\n",
    "import math\n",
    "x = 0\n",
    "prob_no_drop = ((lambda_rate_per_5squareinch_per_3_second**x)*(e**(-lambda_rate_per_5squareinch_per_3_second)))/math.factorial(x)\n",
    "prob_no_drop"
   ]
  },
  {
   "cell_type": "markdown",
   "id": "c1ed1dd7",
   "metadata": {},
   "source": [
    "2.\tLet X be a random day of the week, coded so that Monday is 1, Tuesday is 2, etc. (so X takes values 1, 2,..., 7, with equal probabilities). Let Y be the next day after X (again represented as an integer between 1 and 7). Do X and Y have the same distribution? What is P(X)?"
   ]
  },
  {
   "cell_type": "markdown",
   "id": "85eccc74",
   "metadata": {},
   "source": [
    "##### X = [1,2,3,4,5,6,7]\n",
    "##### Y = [2,3,4,5,6,7,1]\n",
    "##### P(X) = P(Y) = 1/7   \n",
    "-    So distribution of both the random variable and their probability distribution would be same\n",
    "    "
   ]
  },
  {
   "cell_type": "raw",
   "id": "980150af",
   "metadata": {},
   "source": [
    "# P(X>Y) = 1/7\n",
    "# P(X<Y) = (1/7)+(1/7)+(1/7)+(1/7)+(1/7)+(1/7)=6/7\n"
   ]
  },
  {
   "cell_type": "code",
   "execution_count": null,
   "id": "c6ef19fc",
   "metadata": {},
   "outputs": [],
   "source": []
  }
 ],
 "metadata": {
  "kernelspec": {
   "display_name": "Python 3",
   "language": "python",
   "name": "python3"
  },
  "language_info": {
   "codemirror_mode": {
    "name": "ipython",
    "version": 3
   },
   "file_extension": ".py",
   "mimetype": "text/x-python",
   "name": "python",
   "nbconvert_exporter": "python",
   "pygments_lexer": "ipython3",
   "version": "3.8.8"
  }
 },
 "nbformat": 4,
 "nbformat_minor": 5
}

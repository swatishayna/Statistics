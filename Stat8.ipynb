{
 "cells": [
  {
   "cell_type": "raw",
   "id": "7bcfb417",
   "metadata": {},
   "source": [
    "1.\tA crime is committed by one of two suspects, A and B. Initially, there is equal evidence against both of them. In further investigation at the crime scene, it is found that the guilty party had a blood type found in 10% of the population. Suspect A does match this blood type, whereas the blood type of Suspect B is unknown. (a) Given this new information, what is the probability that A is the guilty party? (b) Given this new information, what is the probability that B’s blood type matches that found at the crime scene?\n",
    "\n"
   ]
  },
  {
   "cell_type": "raw",
   "id": "bd2686fa",
   "metadata": {},
   "source": [
    "A: Event that A is guilty\n",
    "B: Event when B is guilty\n",
    "M: A’s blood type matches the guilty party’s blood    "
   ]
  },
  {
   "cell_type": "raw",
   "id": "bf3d5728",
   "metadata": {},
   "source": [
    "P(A)  = PA  = 1/2 \n",
    "P(B)  = PB  = 1/2\n",
    "P(M/A)= PMA = 1\n",
    "P(M/B) = Probability that A’s blood type matches the guilty party’s blood  given B is guilty = PMB = 10/100"
   ]
  },
  {
   "cell_type": "markdown",
   "id": "dfc45a33",
   "metadata": {},
   "source": [
    "## TO find\n",
    "P(A/M) = probabilty that the guilty is A given the probabilty of A’s blood type matches the guilty party’s blood = PAM"
   ]
  },
  {
   "cell_type": "code",
   "execution_count": 1,
   "id": "99369d76",
   "metadata": {},
   "outputs": [
    {
     "data": {
      "text/plain": [
       "0.9090909090909091"
      ]
     },
     "execution_count": 1,
     "metadata": {},
     "output_type": "execute_result"
    }
   ],
   "source": [
    "PA  = 1/2\n",
    "PB  = 1/2\n",
    "PMA = 1\n",
    "PMB = 10/100\n",
    "PAM = (PMA * PA)/ ((PMA * PA) + (PMB * PB))\n",
    "PAM"
   ]
  },
  {
   "cell_type": "markdown",
   "id": "581e861b",
   "metadata": {},
   "source": [
    "## B) Given this new information, what is the probability that B’s blood type matches that found at the crime scene?"
   ]
  },
  {
   "cell_type": "raw",
   "id": "51c5259f",
   "metadata": {},
   "source": [
    "B_dash = B’s blood type matches the guilty party’s blood, and condition on whether B is guilty\n",
    "PB_dash_M = Probability that B’s blood type matches the guilty party’s blood given probability A’s blood type matches the guilty party’s blood  "
   ]
  },
  {
   "cell_type": "code",
   "execution_count": 2,
   "id": "da928023",
   "metadata": {},
   "outputs": [
    {
     "data": {
      "text/plain": [
       "0.18181818181818182"
      ]
     },
     "execution_count": 2,
     "metadata": {},
     "output_type": "execute_result"
    }
   ],
   "source": [
    "PB_dash_M = (PMB * PAM) + (1 * (1/11))\n",
    "PB_dash_M\n"
   ]
  },
  {
   "cell_type": "code",
   "execution_count": null,
   "id": "708d203b",
   "metadata": {},
   "outputs": [],
   "source": []
  },
  {
   "cell_type": "code",
   "execution_count": null,
   "id": "9abb1f8f",
   "metadata": {},
   "outputs": [],
   "source": []
  }
 ],
 "metadata": {
  "kernelspec": {
   "display_name": "Python 3",
   "language": "python",
   "name": "python3"
  },
  "language_info": {
   "codemirror_mode": {
    "name": "ipython",
    "version": 3
   },
   "file_extension": ".py",
   "mimetype": "text/x-python",
   "name": "python",
   "nbconvert_exporter": "python",
   "pygments_lexer": "ipython3",
   "version": "3.8.8"
  }
 },
 "nbformat": 4,
 "nbformat_minor": 5
}

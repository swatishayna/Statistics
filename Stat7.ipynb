{
 "cells": [
  {
   "cell_type": "markdown",
   "id": "f22d629c",
   "metadata": {},
   "source": [
    "1.\tA spam filter is designed by looking at commonly occurring phrases in spam. Suppose that 80% of email is spam. In 10% of the spam emails, the phrase “free money” is used, whereas this phrase is only used in 1% of non-spam emails. A new email has just arrived, which does mention “free money”. What is the probability that it is spam?"
   ]
  },
  {
   "cell_type": "markdown",
   "id": "7cd76d4f",
   "metadata": {},
   "source": [
    "# conditional Probability"
   ]
  },
  {
   "cell_type": "raw",
   "id": "348c189e",
   "metadata": {},
   "source": [
    "A      = email is spam\n",
    "P(A)   = 0.8 = PA\n",
    "B      = email contains \"free money\" phrase\n",
    "P(B/A) = probability that email contains \"free money\" phrase given that it is spam = PBA"
   ]
  },
  {
   "cell_type": "code",
   "execution_count": 1,
   "id": "ee396907",
   "metadata": {},
   "outputs": [],
   "source": [
    "PBA =( 0.1 )\n",
    "PA = .8\n",
    "PB =(( 0.1*0.8) + (.01 * 0.2) )"
   ]
  },
  {
   "cell_type": "markdown",
   "id": "06ddd7fb",
   "metadata": {},
   "source": [
    "###  To Find\n",
    "P(A/B) = Probability that email is spam given that it contains \"free money\" = PAB"
   ]
  },
  {
   "cell_type": "code",
   "execution_count": 2,
   "id": "0cf0eea7",
   "metadata": {},
   "outputs": [],
   "source": [
    "PAB = (PBA*PA)/PB"
   ]
  },
  {
   "cell_type": "code",
   "execution_count": 3,
   "id": "b96fe332",
   "metadata": {},
   "outputs": [
    {
     "data": {
      "text/plain": [
       "0.975609756097561"
      ]
     },
     "execution_count": 3,
     "metadata": {},
     "output_type": "execute_result"
    }
   ],
   "source": [
    "PAB"
   ]
  },
  {
   "cell_type": "code",
   "execution_count": null,
   "id": "faf8370c",
   "metadata": {},
   "outputs": [],
   "source": []
  }
 ],
 "metadata": {
  "kernelspec": {
   "display_name": "Python 3",
   "language": "python",
   "name": "python3"
  },
  "language_info": {
   "codemirror_mode": {
    "name": "ipython",
    "version": 3
   },
   "file_extension": ".py",
   "mimetype": "text/x-python",
   "name": "python",
   "nbconvert_exporter": "python",
   "pygments_lexer": "ipython3",
   "version": "3.8.8"
  }
 },
 "nbformat": 4,
 "nbformat_minor": 5
}

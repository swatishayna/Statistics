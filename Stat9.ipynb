{
 "cells": [
  {
   "cell_type": "markdown",
   "id": "bebac641",
   "metadata": {},
   "source": [
    "1.\tYou are going to play 2 games of chess with an opponent whom you have never played against before (for the sake of this problem). Your opponent is equally likely to be a beginner, intermediate, or a master. Depending on \n",
    "(a) What is your probability of winning the first game? \n",
    "(b) Congratulations: you won the first game! Given this information, what is the probability that you will also win the second game \n",
    "(c) Explain the distinction between assuming that the outcomes of the games are independent and assuming that they are conditionally independent given the opponent’s skill level. Which of these assumptions seems more reasonable, and why?\n",
    "\n"
   ]
  },
  {
   "cell_type": "raw",
   "id": "0bb1eec2",
   "metadata": {},
   "source": [
    "P = your probability of winning the first game\n",
    "S = {(WL),(WW),(LW),(LL)}"
   ]
  },
  {
   "cell_type": "raw",
   "id": "0dd2387c",
   "metadata": {},
   "source": [
    "Your Probability of winning the first game = 2/4"
   ]
  },
  {
   "cell_type": "raw",
   "id": "c3a631a5",
   "metadata": {},
   "source": [
    "(c) Explain the distinction between assuming that the outcomes of the games are independent and assuming that they are conditionally independent given the opponent’s skill level. Which of these assumptions seems more reasonable, and why?"
   ]
  },
  {
   "cell_type": "raw",
   "id": "8e9dac18",
   "metadata": {},
   "source": [
    "Independent could signify outcome of one game doesnt tell anything about the outcome of second game \n",
    "conditional independent signifies probability of game outcome on Opponent skills that is outcome of the first game gives information about the opponents skill and thus can tell outcome of second game and hence second assumption seems more reasonable"
   ]
  },
  {
   "cell_type": "code",
   "execution_count": null,
   "id": "be0d2031",
   "metadata": {},
   "outputs": [],
   "source": []
  }
 ],
 "metadata": {
  "kernelspec": {
   "display_name": "Python 3",
   "language": "python",
   "name": "python3"
  },
  "language_info": {
   "codemirror_mode": {
    "name": "ipython",
    "version": 3
   },
   "file_extension": ".py",
   "mimetype": "text/x-python",
   "name": "python",
   "nbconvert_exporter": "python",
   "pygments_lexer": "ipython3",
   "version": "3.8.8"
  }
 },
 "nbformat": 4,
 "nbformat_minor": 5
}

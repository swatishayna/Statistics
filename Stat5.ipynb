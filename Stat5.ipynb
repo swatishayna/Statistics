{
 "cells": [
  {
   "cell_type": "raw",
   "id": "2111a8c4",
   "metadata": {},
   "source": [
    "1.\tGive an example of 3 events A, B, C which are pairwise independent but not independent. Hint: find an example where whether C occurs is completely determined if we know whether A occurred and whether B occurred, but completely undetermined if we know only one of these things.\n",
    "\n"
   ]
  },
  {
   "cell_type": "code",
   "execution_count": null,
   "id": "05f6ec75",
   "metadata": {},
   "outputs": [],
   "source": [
    "A  =  first toss is heads (HH,HT)\n",
    "B  =  second toss is Heads (TH, HH)\n",
    "C  =  two tosses have the same result  (TT,HH)"
   ]
  },
  {
   "cell_type": "raw",
   "id": "22358994",
   "metadata": {},
   "source": [
    "Clearly A,B, C are dependent events and C is only determined if we know the Occurrence of A and B Both"
   ]
  },
  {
   "cell_type": "raw",
   "id": "4e6953d9",
   "metadata": {},
   "source": [
    "2.\tA bag contains one marble which is either green or blue, with equal probabilities. A green marble is put in the bag (so there are 2 marbles now), and then a random marble is taken out. The marble taken out is green. What is the probability that the remaining marble is also green?\n"
   ]
  },
  {
   "cell_type": "raw",
   "id": "122052d9",
   "metadata": {},
   "source": [
    "initially :\n",
    "    Bag contains either G or B\n",
    "After putting G ball in the bag:\n",
    "    Bag Contains GG(2 green balls) or BG(1 blue ball one green ball)\n",
    "After taking out green ball:\n",
    "    Bag Contains G(1 green ball : left assuming the bag contains green ball at the start and then green ball already taken out) or B (1 Blue ball left : assuming the bag contains Blue ball at the start and then green ball already taken out)\n",
    "probability of remaing marble is also green:\n",
    "    1 or 0 = 1+0 = 1"
   ]
  },
  {
   "cell_type": "code",
   "execution_count": null,
   "id": "8bd04b81",
   "metadata": {},
   "outputs": [],
   "source": []
  }
 ],
 "metadata": {
  "kernelspec": {
   "display_name": "Python 3",
   "language": "python",
   "name": "python3"
  },
  "language_info": {
   "codemirror_mode": {
    "name": "ipython",
    "version": 3
   },
   "file_extension": ".py",
   "mimetype": "text/x-python",
   "name": "python",
   "nbconvert_exporter": "python",
   "pygments_lexer": "ipython3",
   "version": "3.8.8"
  }
 },
 "nbformat": 4,
 "nbformat_minor": 5
}

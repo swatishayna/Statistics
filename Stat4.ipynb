{
 "cells": [
  {
   "cell_type": "markdown",
   "id": "dbec4c4a",
   "metadata": {},
   "source": [
    "1.\tIs it possible that an event is independent of itself? If so, when?\n",
    "\n"
   ]
  },
  {
   "cell_type": "raw",
   "id": "ba06eeb2",
   "metadata": {},
   "source": [
    "Considering A is independent of Itself:\n",
    "# = intersection\n",
    "P(A) = P(A # A)\n",
    "P(A) = P(A).P(A)\n",
    "P(A)-P(A)P(A) = 0\n",
    "P(A)[1-P(A)] = 0\n",
    "==> P(A) = 0 OR P(A) = 1"
   ]
  },
  {
   "cell_type": "markdown",
   "id": "b491aab5",
   "metadata": {},
   "source": [
    "2.\tIs it always true that if A and B are independent events, then Ac and Bc are independent events? Show that it is, or give a counterexample."
   ]
  },
  {
   "cell_type": "raw",
   "id": "ab44dd25",
   "metadata": {},
   "source": [
    "Given:\n",
    "P(A # B) = P(A).P(B)\n",
    "Proove:\n",
    "P(Ac # Bc) = P(Ac).P(Bc)\n",
    "\n",
    "@ = Union\n",
    "Demorgon's LAw:\n",
    "\n",
    "P(Ac # Bc) = cP(A @ B)\n",
    "P(Ac # Bc) = 1- P(A @ B)\n",
    "P(Ac # Bc) = 1-[P(A) + P(B) - P(A # B)]\n",
    "P(Ac # Bc) = 1-[P(A) + P(B) - P(A).P(B) ]                               BECAUSE P(A # B) = P(A).P(B)\n",
    "P(Ac # Bc) = 1 - [1- P(Ac) + 1 - P(Bc) - ((1- P(Ac))(1 - P(Bc)))]\n",
    "P(Ac # Bc) = 1 - [2 - P(Ac) - P(Bc) - 1 + P(Bc) + P(Ac) - P(Ac).P(Bc)]\n",
    "P(Ac # Bc) = 1 - [1 - P(Ac).P(Bc)]\n",
    "P(Ac # Bc) = P(Ac).P(Bc)"
   ]
  },
  {
   "cell_type": "code",
   "execution_count": null,
   "id": "ef829900",
   "metadata": {},
   "outputs": [],
   "source": []
  }
 ],
 "metadata": {
  "kernelspec": {
   "display_name": "Python 3",
   "language": "python",
   "name": "python3"
  },
  "language_info": {
   "codemirror_mode": {
    "name": "ipython",
    "version": 3
   },
   "file_extension": ".py",
   "mimetype": "text/x-python",
   "name": "python",
   "nbconvert_exporter": "python",
   "pygments_lexer": "ipython3",
   "version": "3.8.8"
  }
 },
 "nbformat": 4,
 "nbformat_minor": 5
}

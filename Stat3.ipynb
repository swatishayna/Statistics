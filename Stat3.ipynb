{
 "cells": [
  {
   "cell_type": "markdown",
   "id": "aeb07e8f",
   "metadata": {},
   "source": [
    "1.\tFor a group of 7 people, find the probability that all 4 seasons (winter, spring, summer, fall) occur at least once each among their birthdays, assuming that all seasons are equally likely."
   ]
  },
  {
   "cell_type": "code",
   "execution_count": 1,
   "id": "cc636014",
   "metadata": {},
   "outputs": [],
   "source": [
    "# P1,P2,P3,P4...P7 can take any of the four season\n",
    "total_outcome = 4**7\n",
    "# total number of outcome with one or more season has no ones's bday in it\n"
   ]
  },
  {
   "cell_type": "code",
   "execution_count": 2,
   "id": "e700262b",
   "metadata": {},
   "outputs": [
    {
     "name": "stdout",
     "output_type": "stream",
     "text": [
      "7984\n"
     ]
    }
   ],
   "source": [
    "from itertools import combinations\n",
    "season_1 = combinations(range(4),1)\n",
    "season_2 = combinations(range(4),2)\n",
    "season_3 = combinations(range(4),3)\n",
    "a = [i for i in list(season_1)]\n",
    "b = [i for i in list(season_2)]\n",
    "c = [i for i in list(season_3)]\n",
    "# selecting 1 seasons out of 4\n",
    "len_a = len(a)\n",
    "# selecting 2 seasons out of 4\n",
    "len_b = len(b)\n",
    "# selecting 3 season out of 4\n",
    "len_c = len(c)\n",
    "# total no of cases when 1 season was not included\n",
    "Case1 = len_a*((3)**7)\n",
    "# total no of cases when 2 seasons were not included\n",
    "Case2 = len_b*((2)**7)\n",
    "# total no of cases when 2 seasons were not included\n",
    "Case3 = len_c*((1)**7)\n",
    "\n",
    "# total number of cases when one or more sesaons dont have any bday\n",
    "Expected = Case1 - Case2 + Case3\n",
    "print(Expected)"
   ]
  },
  {
   "cell_type": "code",
   "execution_count": 3,
   "id": "d3d08e42",
   "metadata": {},
   "outputs": [
    {
     "data": {
      "text/plain": [
       "0.4873046875"
      ]
     },
     "execution_count": 3,
     "metadata": {},
     "output_type": "execute_result"
    }
   ],
   "source": [
    "# probability that one or more season doesnt have any bday\n",
    "p_compliment = Expected/total_outcome\n",
    "p_compliment"
   ]
  },
  {
   "cell_type": "code",
   "execution_count": 4,
   "id": "9b7500d5",
   "metadata": {},
   "outputs": [
    {
     "data": {
      "text/plain": [
       "0.5126953125"
      ]
     },
     "execution_count": 4,
     "metadata": {},
     "output_type": "execute_result"
    }
   ],
   "source": [
    "# Required probability that all 4 seasons occur at least once each among their birthdays:\n",
    "P = 1 - p_compliment\n",
    "P"
   ]
  },
  {
   "cell_type": "markdown",
   "id": "1be09a45",
   "metadata": {},
   "source": [
    "2.\tAlice attends a small college in which each class meets only once a week. She is deciding between 30 non-overlapping classes. There are 6 classes to choose from for each day of the week, Monday through Friday. Trusting in the benevolence of randomness, Alice decides to register for 7 randomly selected classes out of the 30, with all choices equally likely. What is the probability that she will have classes every day, Monday through Friday?"
   ]
  },
  {
   "cell_type": "code",
   "execution_count": 5,
   "id": "0c43c46f",
   "metadata": {},
   "outputs": [
    {
     "data": {
      "text/plain": [
       "2035800"
      ]
     },
     "execution_count": 5,
     "metadata": {},
     "output_type": "execute_result"
    }
   ],
   "source": [
    "#S1,S2,S3....S7 can take any of the 5 day\n",
    "combination_total_outcome= combinations(range(30),7)\n",
    "total_outcome= len([i for i in list(combination_total_outcome)])\n",
    "total_outcome"
   ]
  },
  {
   "cell_type": "code",
   "execution_count": 6,
   "id": "12a10ec2",
   "metadata": {},
   "outputs": [],
   "source": [
    "# (choose the 2 days when she has 2 classes, and then select 2 classes on those days and 1 class for the other days)\n",
    "case1 = len([i for i in list(combinations(range(5),2))])*((len([i for i in list(combinations(range(6),2))]))**2)*(6**3)"
   ]
  },
  {
   "cell_type": "code",
   "execution_count": 7,
   "id": "8bd3179b",
   "metadata": {},
   "outputs": [],
   "source": [
    "# choose 1 day and then select 3 classes on those days and 1 class for the other days\n",
    "case2 = len([i for i in list(combinations(range(5),1))])*((len([i for i in list(combinations(range(6),3))]))**1)*(6**4)"
   ]
  },
  {
   "cell_type": "code",
   "execution_count": 8,
   "id": "a13d0157",
   "metadata": {},
   "outputs": [
    {
     "name": "stdout",
     "output_type": "stream",
     "text": [
      "486000 129600\n"
     ]
    }
   ],
   "source": [
    "print(case1, case2)"
   ]
  },
  {
   "cell_type": "code",
   "execution_count": 9,
   "id": "8b70edc8",
   "metadata": {},
   "outputs": [],
   "source": [
    "P = (case1+case2)/total_outcome"
   ]
  },
  {
   "cell_type": "code",
   "execution_count": 10,
   "id": "28666251",
   "metadata": {},
   "outputs": [
    {
     "data": {
      "text/plain": [
       "0.30238726790450926"
      ]
     },
     "execution_count": 10,
     "metadata": {},
     "output_type": "execute_result"
    }
   ],
   "source": [
    "P"
   ]
  },
  {
   "cell_type": "code",
   "execution_count": null,
   "id": "a740cf8a",
   "metadata": {},
   "outputs": [],
   "source": []
  }
 ],
 "metadata": {
  "kernelspec": {
   "display_name": "Python 3",
   "language": "python",
   "name": "python3"
  },
  "language_info": {
   "codemirror_mode": {
    "name": "ipython",
    "version": 3
   },
   "file_extension": ".py",
   "mimetype": "text/x-python",
   "name": "python",
   "nbconvert_exporter": "python",
   "pygments_lexer": "ipython3",
   "version": "3.8.8"
  }
 },
 "nbformat": 4,
 "nbformat_minor": 5
}
